{
 "cells": [
  {
   "cell_type": "code",
   "execution_count": 1,
   "metadata": {},
   "outputs": [],
   "source": [
    "import json\n",
    "import os\n",
    "import shutil\n",
    "import numpy as np\n",
    "from PIL import Image"
   ]
  },
  {
   "cell_type": "code",
   "execution_count": 2,
   "metadata": {},
   "outputs": [],
   "source": [
    "#This is where the images are\n",
    "\n",
    "IMAGES_DIR = './png/'\n",
    "if not (os.path.exists('JPG')):\n",
    "    os.mkdir('JPG')"
   ]
  },
  {
   "cell_type": "code",
   "execution_count": 3,
   "metadata": {},
   "outputs": [],
   "source": [
    "png_files = os.listdir(IMAGES_DIR)"
   ]
  },
  {
   "cell_type": "code",
   "execution_count": 4,
   "metadata": {},
   "outputs": [],
   "source": [
    "for f in png_files:\n",
    "    #open image in png format\n",
    "    img_png = Image.open(IMAGES_DIR+f)\n",
    "    img_png = img_png.convert(\"RGB\")\n",
    "    #The image object is used to save the image in jpg format\n",
    "    img_png.save('JPG/'+f+'.jpg')"
   ]
  },
  {
   "cell_type": "code",
   "execution_count": 5,
   "metadata": {},
   "outputs": [],
   "source": [
    "!rm -fr data_preprocess/ \n",
    "#remove the preprocessor"
   ]
  },
  {
   "cell_type": "code",
   "execution_count": 6,
   "metadata": {},
   "outputs": [],
   "source": [
    "# For annotations, get the chart type\n",
    "# For the image, get the actual image and put them in the right folder\n",
    "# The json contains the data that allows us to label the image\n",
    "annotations_fn = 'annotations.json'\n",
    "with open(annotations_fn) as f:\n",
    "    data = json.load(f)\n",
    "    \n",
    "pics='JPG/'\n",
    "\n",
    "if not os.path.exists('data_preprocess/'):\n",
    "    os.mkdir('data_preprocess/')\n",
    "\n",
    "#get the chart types and make the folders necessary\n",
    "chart_types=['vbar_categorical','hbar_categorical','line','pie','dot_line']\n",
    "for chart_type in chart_types:\n",
    "    if not os.path.exists('data_preprocess/'+chart_type):\n",
    "        os.mkdir('data_preprocess/'+chart_type)\n",
    "        os.mkdir('data_preprocess/'+chart_type+'/val')\n",
    "        os.mkdir('data_preprocess/'+chart_type+'/train')\n",
    "        \n",
    "for num,i in enumerate(data):\n",
    "    category = (i['type'])\n",
    "    shutil.copy(pics+str(num)+'.png.jpg', 'data_preprocess/' + category + '/'+ str(num) +'.jpg' )"
   ]
  },
  {
   "cell_type": "code",
   "execution_count": 7,
   "metadata": {},
   "outputs": [],
   "source": [
    "for chart_type in chart_types:\n",
    "    source1 = \"data_preprocess/\" + chart_type\n",
    "    dest11 = \"data_preprocess/\" + chart_type + '/val'\n",
    "    dest12 = \"data_preprocess/\" + chart_type + '/train'\n",
    "    files = os.listdir(source1)\n",
    "\n",
    "    for f in files:\n",
    "        file_name, file_extension = os.path.splitext(f)\n",
    "        if (file_extension != '.jpg'):\n",
    "            continue # skip the directories\n",
    "        \n",
    "        if np.random.rand(1) < 0.2:\n",
    "            shutil.move(source1 + '/'+ f, dest11 + '/'+ f)\n",
    "        else:\n",
    "            shutil.move(source1 + '/'+ f, dest12 + '/'+ f)\n"
   ]
  },
  {
   "cell_type": "code",
   "execution_count": 8,
   "metadata": {},
   "outputs": [],
   "source": [
    "#make the training data\n",
    "!rm -fr data/\n",
    "\n",
    "os.mkdir('data/')\n",
    "os.mkdir('data/train')\n",
    "os.mkdir('data/val')\n",
    "    \n",
    "for chart_type in chart_types:\n",
    "    os.mkdir('data/train/'+chart_type)\n",
    "    os.mkdir('data/val/'+chart_type)\n",
    "        \n",
    "for chart_type in chart_types:\n",
    "    test_path = 'data_preprocess/' + chart_type + '/val/'\n",
    "    test_files = os.listdir(test_path)\n",
    "\n",
    "    for f in test_files:\n",
    "        file_name, file_extension = os.path.splitext(f)\n",
    "        if (file_extension != '.jpg'):\n",
    "            continue # skip the directories\n",
    "        shutil.copy(test_path+f,'data/val/'+chart_type+'/'+f)\n",
    "        \n",
    "        \n",
    "        \n",
    "    train_path = 'data_preprocess/' + chart_type + '/train/'\n",
    "    train_files = os.listdir(train_path)\n",
    "\n",
    "    for f in train_files:\n",
    "        file_name, file_extension = os.path.splitext(f)\n",
    "        if (file_extension != '.jpg'):\n",
    "            continue # skip the directories\n",
    "        shutil.copy(train_path+f,'data/train/'+chart_type+'/'+f)\n",
    "        "
   ]
  },
  {
   "cell_type": "code",
   "execution_count": 9,
   "metadata": {},
   "outputs": [],
   "source": [
    "!rm -fr data_preprocess/ \n",
    "#remove the preprocessor"
   ]
  },
  {
   "cell_type": "code",
   "execution_count": null,
   "metadata": {},
   "outputs": [],
   "source": []
  },
  {
   "cell_type": "code",
   "execution_count": null,
   "metadata": {},
   "outputs": [],
   "source": []
  },
  {
   "cell_type": "code",
   "execution_count": null,
   "metadata": {},
   "outputs": [],
   "source": []
  }
 ],
 "metadata": {
  "kernelspec": {
   "display_name": "Python 3",
   "language": "python",
   "name": "python3"
  },
  "language_info": {
   "codemirror_mode": {
    "name": "ipython",
    "version": 3
   },
   "file_extension": ".py",
   "mimetype": "text/x-python",
   "name": "python",
   "nbconvert_exporter": "python",
   "pygments_lexer": "ipython3",
   "version": "3.8.8"
  }
 },
 "nbformat": 4,
 "nbformat_minor": 4
}
